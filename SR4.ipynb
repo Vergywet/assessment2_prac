{
 "cells": [
  {
   "cell_type": "markdown",
   "id": "2187c021-58db-4c77-9d91-326db1f6394f",
   "metadata": {},
   "source": [
    "Algorithm Implementation: Sort algorithm "
   ]
  },
  {
   "cell_type": "code",
   "execution_count": 1,
   "id": "f4d6f276-cb24-4898-abbf-ca613e4972cf",
   "metadata": {},
   "outputs": [
    {
     "name": "stdout",
     "output_type": "stream",
     "text": [
      "Sorted years: [1989, 1990, 1998, 2005, 2009, 2012, 2022]\n"
     ]
    }
   ],
   "source": [
    "def bubble_sort(arr, order='ascending'):\n",
    "    n = len(arr)\n",
    "    for i in range(n):\n",
    "        # Track if any swapping happens\n",
    "        swapped = False\n",
    "        for j in range(0, n-i-1):\n",
    "            if (order == 'ascending' and arr[j] > arr[j+1]) or (order == 'descending' and arr[j] < arr[j+1]):\n",
    "                arr[j], arr[j+1] = arr[j+1], arr[j]\n",
    "                swapped = True\n",
    "        # If no two elements were swapped in the inner loop, then the list is already sorted\n",
    "        if not swapped:\n",
    "            break\n",
    "    return arr\n",
    "\n",
    "# Example usage using my dataset:\n",
    "years = [1989, 2012, 2009, 2005, 1990, 1998, 2022]\n",
    "sorted_years = bubble_sort(years, order='ascending')\n",
    "print(\"Sorted years:\", sorted_years)\n"
   ]
  }
 ],
 "metadata": {
  "kernelspec": {
   "display_name": "Python 3 (ipykernel)",
   "language": "python",
   "name": "python3"
  },
  "language_info": {
   "codemirror_mode": {
    "name": "ipython",
    "version": 3
   },
   "file_extension": ".py",
   "mimetype": "text/x-python",
   "name": "python",
   "nbconvert_exporter": "python",
   "pygments_lexer": "ipython3",
   "version": "3.11.7"
  }
 },
 "nbformat": 4,
 "nbformat_minor": 5
}
